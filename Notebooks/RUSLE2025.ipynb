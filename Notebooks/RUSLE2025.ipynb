{
 "cells": [
  {
   "cell_type": "markdown",
   "id": "a7fb13e7",
   "metadata": {},
   "source": [
    "Soil erosion modelling of eucalyptus plantations across the south of Portugal \n",
    "Soil MSc - 2025  SRUC\n",
    "\n",
    "Daniel Fletcher\n",
    "\n",
    "This Jupyter Notebook goes with the RUSLE2025.pptx deck"
   ]
  },
  {
   "cell_type": "markdown",
   "id": "35b0bce9",
   "metadata": {},
   "source": [
    "## $R$ - Rainfall and Runoff Factor\n",
    "Based on https://doi.org/10.1016/S0022-1694(01)00387-0"
   ]
  },
  {
   "cell_type": "markdown",
   "id": "deaaab6a",
   "metadata": {},
   "source": [
    "The equation for R from https://doi.org/10.1016/S0022-1694(01)00387-0 is \n",
    "\n",
    "$R=\\sum_{m=1}^{12} \\frac{1}{N} \\sum_{i=1}^{N} 7.05 \\times rain_{10}(m,i)-88.92\\times days_{10}(m,i)$\n",
    "\n",
    "where  $rain_{10}(m,i)$ is the monthly rainfall for days with $>=10$mm of rain for month $m$ in year $i$ and,\n",
    "\n",
    "$days_{10}(m,i)$ is the monthly number of days with rainfall $>=10$mm of rain.\n",
    "\n",
    "First we are going to write some code to get local rainfall data from the internet\n",
    "\n",
    "We are going to use the Weather API 'OpenMeteo' to derive our R parameter based on the weather at a lat,long during a reference period.\n",
    "\n",
    "https://open-meteo.com/en/docs/historical-weather-api"
   ]
  },
  {
   "cell_type": "code",
   "execution_count": null,
   "id": "9387694d",
   "metadata": {},
   "outputs": [],
   "source": [
    "#First install some packages for getting rainfall data from open-meteo\n",
    "%pip install openmeteo-requests\n",
    "%pip install requests-cache retry-requests\n",
    "%pip install geopandas\n",
    "%pip install geotiff\n",
    "#THIS MAY TAKE 30 seconds to run"
   ]
  },
  {
   "cell_type": "code",
   "execution_count": null,
   "id": "0bd71d0c",
   "metadata": {},
   "outputs": [],
   "source": [
    "##Import modules for getting rainfall data from open meteo\n",
    "import openmeteo_requests\n",
    "import requests_cache\n",
    "from retry_requests import retry\n",
    "import pandas as pd\n",
    "import datetime\n",
    "import numpy as np"
   ]
  },
  {
   "cell_type": "markdown",
   "id": "42295522",
   "metadata": {},
   "source": [
    "We will use the modules to download rainfall data basded on a start date, end date, latitude, and longitude.\n",
    "\n",
    "Dont worry about understanding this, just know it will get the rainfall data at daily resolution based on the inputs"
   ]
  },
  {
   "cell_type": "code",
   "execution_count": null,
   "id": "bea7f29d",
   "metadata": {},
   "outputs": [],
   "source": [
    "def get_weather(start_date,end_date,lat,long):\n",
    "    #start_date and end_date should be strings of format YYYY-MM-DD\n",
    "    cache_session = requests_cache.CachedSession('.cache', expire_after = -1)\n",
    "    retry_session = retry(cache_session, retries = 5, backoff_factor = 0.2)\n",
    "    openmeteo = openmeteo_requests.Client(session = retry_session)\n",
    "    \n",
    "    \n",
    "    end_date_dt=datetime.datetime.strptime(end_date,'%Y-%m-%d') #doesn't work\n",
    "    if end_date_dt<datetime.datetime.today(): #Its histroic weather\n",
    "        url = \"https://archive-api.open-meteo.com/v1/archive\"\n",
    "        params = {\"latitude\": lat,\n",
    "            \"longitude\": long,\n",
    "            \"start_date\": start_date,\n",
    "            \"end_date\": end_date,\n",
    "            \"daily\": \"precipitation_sum\", #or rain_sum (whats the difference)\n",
    "            \"timezone\": \"GMT\"}\n",
    "    else: #Future Weather\n",
    "        url = \"https://climate-api.open-meteo.com/v1/climate\"\n",
    "        params = {\n",
    "            \"latitude\": lat,\n",
    "            \"longitude\": long,\n",
    "            \"start_date\": start_date,\n",
    "            \"end_date\": end_date,\n",
    "            \"models\": \"HiRAM_SIT_HR\", #Chose the climate model you want here!\n",
    "            \"timezone\": \"GMT\",\n",
    "            \"daily\": \"precipitation_sum\" #or rain_sum \n",
    "                }\n",
    "        \n",
    "    responses = openmeteo.weather_api(url, params=params) #This downloads the weather data as a json\n",
    "    #Now we unpack the data so its in a nicer format.\n",
    "    daily=responses[0].Daily()\n",
    "    daily_precipitation_sum = daily.Variables(0).ValuesAsNumpy() #extract rainfall data\n",
    "    daily_data = {\"date\": pd.date_range( #make dates\n",
    "        start = pd.to_datetime(daily.Time(), unit = \"s\", utc = True),\n",
    "        end = pd.to_datetime(daily.TimeEnd(), unit = \"s\", utc = True),\n",
    "        freq = pd.Timedelta(seconds = daily.Interval()),\n",
    "        inclusive = \"left\")}\n",
    "    daily_data[\"precipitation_sum\"] = daily_precipitation_sum\n",
    "    return daily_data"
   ]
  },
  {
   "cell_type": "markdown",
   "id": "14135101",
   "metadata": {},
   "source": [
    "We can now call the function to get the daily precipiation data from the location we want and start and end date"
   ]
  },
  {
   "cell_type": "code",
   "execution_count": null,
   "id": "d918ff5a",
   "metadata": {},
   "outputs": [],
   "source": [
    "daily_data=get_weather(\"2024-01-01\",\"2024-12-31\",37.212281,-8.119963)\n",
    "print(daily_data)"
   ]
  },
  {
   "cell_type": "markdown",
   "id": "3062b109",
   "metadata": {},
   "source": [
    "Daily_data is a dictionary with keys 'date' and 'precipitation_sum'"
   ]
  },
  {
   "cell_type": "code",
   "execution_count": null,
   "id": "442dc71a",
   "metadata": {
    "scrolled": true
   },
   "outputs": [],
   "source": [
    "daily_data['date'][0] #Access the first date"
   ]
  },
  {
   "cell_type": "code",
   "execution_count": null,
   "id": "48faa311",
   "metadata": {},
   "outputs": [],
   "source": [
    "daily_data['precipitation_sum'][10] #Access the 10th day precipitation"
   ]
  },
  {
   "cell_type": "markdown",
   "id": "df7acc26",
   "metadata": {},
   "source": [
    "Using this data we can work out the R value for a specific location and time period using the formula. \n",
    "\n",
    "First we write a function to work out $rain_{10}(m,i)$ and $day_{10}(m,i)$"
   ]
  },
  {
   "cell_type": "code",
   "execution_count": null,
   "id": "964b0ed5",
   "metadata": {},
   "outputs": [],
   "source": [
    "def calc_rain_day_10(month_precip):\n",
    "    #month_precip is a months worth of rainfall data at daily resolution\n",
    "    greater_10= month_precip>=10\n",
    "    day_10=np.count_nonzero(greater_10) # number of days in the month with rain greater than 10mm\n",
    "    rain_10=np.sum(month_precip[greater_10]) #summed rainfall in those days\n",
    "    return rain_10,day_10\n"
   ]
  },
  {
   "cell_type": "code",
   "execution_count": null,
   "id": "4a3e13c5",
   "metadata": {},
   "outputs": [],
   "source": [
    "#Test the function\n",
    "rain_10,day_10=calc_rain_day_10(daily_data['precipitation_sum'][0:30])\n",
    "print('The number of days with rainfall greater than 10mm in the first 30 days was {} and those days rainfall summed to {:.1f}'.format(day_10,rain_10))\n",
    "print('The rainfall in this month looked like:')\n",
    "print(daily_data['precipitation_sum'][0:30])"
   ]
  },
  {
   "cell_type": "markdown",
   "id": "4372af76",
   "metadata": {},
   "source": [
    "We are now ready to calculate the R value for a given start_date,end_date, lat and long:"
   ]
  },
  {
   "cell_type": "code",
   "execution_count": null,
   "id": "b667ee92",
   "metadata": {},
   "outputs": [],
   "source": [
    "def calc_R(start_date,end_date,lat,long):\n",
    "    #A period of 20–25 yr. is recommended for computing the average R\n",
    "    #Get data. NEEDS INERNET CONNECTION TO RUN\n",
    "    daily_data=get_weather(start_date,end_date,lat,long)\n",
    "    years=list(set(daily_data['date'].year)) #A list of all the years\n",
    "    months=np.arange(1,13) #a list of all the months\n",
    "    month_R={}#np.zeros(len(years)) #to save the months R value in\n",
    "    for im,m in enumerate(months):\n",
    "        month_indxs=daily_data['date'].month==m #pick out indexes in the month m\n",
    "        dates_month=daily_data['date'][month_indxs] #the dates in the month m\n",
    "        precip_month=daily_data['precipitation_sum'][month_indxs] # the precipitation data in this month only\n",
    "        years_R=[] #to save the months R value in\n",
    "        for iy,y in enumerate(years):\n",
    "            year_indxs=dates_month.year==y #pick out indexes in the month and year\n",
    "            precip_month_year=precip_month[year_indxs] #the precipitaiton in this month and year\n",
    "            rain_10,day_10=calc_rain_day_10(precip_month_year) #call function to get rain_10 and day_10\n",
    "            result=7.05*rain_10-88.92*day_10 #use the formula\n",
    "            if result<=0: #Catch those with negatative values\n",
    "                years_R.append(0)\n",
    "            else:\n",
    "                years_R.append(result)  # a list of EI30 value for month m for each year\n",
    "        month_R[m]=years_R  #{month:[list of yearly EI30s for this month in each year]}\n",
    "    return [np.mean(v) for v in month_R.values()]\n",
    "\n",
    "###IGNORE THIS FUNCTION I WAS TESTING SOMETHING\n",
    "def calc_R_2(start_date,end_date,lat,long):\n",
    "    \n",
    "    #A period of 20–25 yr. is recommended for computing the average R\n",
    "    #Get data \n",
    "    daily_data=get_weather(start_date,end_date,lat,long)\n",
    "    years=list(set(daily_data['date'].year)) #A list of all the years\n",
    "    months=np.arange(1,13) #a list of all the months\n",
    "    year_R={}#np.zeros(len(years)) #to save the years R value in\n",
    "    for iy,y in enumerate(years):\n",
    "        year_indxs=daily_data['date'].year==y #pick out indexes in the year y\n",
    "        dates_year=daily_data['date'][year_indxs] #the dates in the year y\n",
    "        precip_year=daily_data['precipitation_sum'][year_indxs] # the precipitation data in this year only\n",
    "        month_R=[] #to save the months R value in\n",
    "        for im,m in enumerate(months):\n",
    "            month_indxs=dates_year.month==m #pick out indexes in the month m\n",
    "            precip_month=precip_year[month_indxs] #the precipitaiton in this month\n",
    "            rain_10,day_10=calc_rain_day_10(precip_month) #call function to get rain_10 and day_10\n",
    "            result=7.05*rain_10-88.92*day_10 #use the formula\n",
    "            if result<=0:  \n",
    "                continue\n",
    "            else:\n",
    "                month_R.append(result)\n",
    "        year_R[y]=month_R  \n",
    "    return year_R\n"
   ]
  },
  {
   "cell_type": "markdown",
   "id": "b30110d2",
   "metadata": {},
   "source": [
    "We can now call the function over a period to work out the mean monthly-R value for each month over a period"
   ]
  },
  {
   "cell_type": "code",
   "execution_count": null,
   "id": "d4322b23",
   "metadata": {},
   "outputs": [],
   "source": [
    "monthly_mean_Rs=calc_R(\"1970-01-01\",\"1997-12-31\",37.310764, -8.826724) #Aljezur"
   ]
  },
  {
   "cell_type": "code",
   "execution_count": null,
   "id": "7bd2c6b8",
   "metadata": {},
   "outputs": [],
   "source": [
    "print('The yearly R value from 1970-1997 in Aljezur is {} MJmm/ha/h/year'.format(monthly_mean_Rs))"
   ]
  },
  {
   "cell_type": "markdown",
   "id": "0224b30c",
   "metadata": {},
   "source": [
    "**EXERCISE**: Have a play with changing the reference period and location. Use google maps to get different lat, longs in the Algarve. You can use table 2 in https://doi.org/10.1016/S0022-1694(01)00387-0 to compare your results too.\n",
    "\n",
    "**It is recommended the reference period is at least 20 years long to get a reliable average** "
   ]
  },
  {
   "cell_type": "code",
   "execution_count": null,
   "id": "7653fca7",
   "metadata": {},
   "outputs": [],
   "source": [
    "##write your code here. "
   ]
  },
  {
   "cell_type": "markdown",
   "id": "79d828ad",
   "metadata": {},
   "source": [
    "##  $K$ - Soil erodibility factor"
   ]
  },
  {
   "cell_type": "markdown",
   "id": "c9b4dc67",
   "metadata": {},
   "source": [
    "Based on https://core.ac.uk/download/pdf/6506014.pdf table 7\n",
    "\n",
    "$K=(0.043\\times pH +\\frac{0.62}{OM}+0.0082\\times Sa - 0.0062\\times Cl_{ratio})\\times Si_{ratio}\\times 0.1317$"
   ]
  },
  {
   "cell_type": "code",
   "execution_count": null,
   "id": "3d210bf7",
   "metadata": {},
   "outputs": [],
   "source": [
    "def calc_K(pH,Sa,Cl,Si,OM):\n",
    "    #pH - pH of soil\n",
    "    #Sa - percent Sand of soil\n",
    "    #Cl - percent Clay of soil\n",
    "    #Si - percent Silt of soil\n",
    "    #OM - OM percent of soil\n",
    "    #output units are th/MJ/mm\n",
    "    Cl_ratio=Cl/(Sa+Si)\n",
    "    Si_ratio = Si/100\n",
    "    return (0.043*pH+0.62/OM+0.0082*Sa-0.0062*Cl_ratio)*Si_ratio*0.1317 #convert to SI\n",
    "    "
   ]
  },
  {
   "cell_type": "markdown",
   "id": "ac31b05c",
   "metadata": {},
   "source": [
    "We can try it out on an example soil: "
   ]
  },
  {
   "cell_type": "code",
   "execution_count": null,
   "id": "23f4a4d8",
   "metadata": {},
   "outputs": [],
   "source": [
    "#An example loamy fine sand. Should have a K value of 0.009 according to https://core.ac.uk/download/pdf/6506014.pdf\n",
    "pH=5.5\n",
    "OM=2.4\n",
    "Sa=75\n",
    "Si=6\n",
    "Cl=19\n",
    "K=calc_K(pH,Sa,Cl,Si,OM)\n",
    "print(K)"
   ]
  },
  {
   "cell_type": "markdown",
   "id": "143c5885",
   "metadata": {},
   "source": [
    "**EXERCISE**: Check our equation works for some other example soils of table 7 in https://core.ac.uk/download/pdf/6506014.pdf below. Note the K vlaues in the table are in imperial units, so you will need to convert with a factor of 0.1317 to make it comparable to our equation output"
   ]
  },
  {
   "cell_type": "code",
   "execution_count": null,
   "id": "c752f189",
   "metadata": {},
   "outputs": [],
   "source": [
    "#Write your code here"
   ]
  },
  {
   "cell_type": "markdown",
   "id": "5954fd5f",
   "metadata": {},
   "source": [
    "We can now calculate the annual tonnage of soil lost a year for our loamy fine sand. Assuming the soil is tilled and at a 9% slope of lenght 22m"
   ]
  },
  {
   "cell_type": "code",
   "execution_count": null,
   "id": "d499594c",
   "metadata": {},
   "outputs": [],
   "source": [
    "R=K*np.nansum(monthly_mean_Rs)\n",
    "print('The yearly average loss of soil (1970-1997) for a tilled sandy loam field at 9% slope of 22m in Aljezur is {:.2f} t/ha/year'.format(R))"
   ]
  },
  {
   "cell_type": "markdown",
   "id": "16acad02",
   "metadata": {},
   "source": [
    "## $LS$ - slope length and steepness factor\n",
    "\n",
    "Based on https://doi.org/10.1002/9781118351475.ch22, however, you may choose other equtions from table 5 in https://doi.org/10.1016/S0022-1694(01)00387-0 or beyond, provided the paramaters can be measured\n",
    "\n",
    "$LS=(\\frac{l}{22})^{0.5}(0.065+0.045s+0.0065s^{2})$\n",
    "\n",
    "where $s$ is the slope steepness in percent and $l$ is the slope length in m\n",
    "\n",
    "**EXERCISE** write a function called calc_LS to determine LS based on $s$ and $l$.\n",
    "\n",
    "What should happend to LS when the slope is 9% and 22m long? Test your function\n",
    "\n"
   ]
  },
  {
   "cell_type": "code",
   "execution_count": null,
   "id": "32142b09",
   "metadata": {},
   "outputs": [],
   "source": [
    "def calc_LS(s,l):\n",
    "    #power = **\n",
    "    return (l/22)**0.5*(0.065+0.045*s+0.0065*s**2)\n",
    "    "
   ]
  },
  {
   "cell_type": "code",
   "execution_count": null,
   "id": "4e06fa63",
   "metadata": {},
   "outputs": [],
   "source": [
    "print(calc_LS(9,22))"
   ]
  },
  {
   "cell_type": "markdown",
   "id": "b25ba153",
   "metadata": {},
   "source": [
    "**Exercise**: Calculate the annual tonnage of soil lost a year for our loamy fine sand. Assuming the soil is tilled and at a 15% slope of 22m"
   ]
  },
  {
   "cell_type": "code",
   "execution_count": null,
   "id": "16405773",
   "metadata": {},
   "outputs": [],
   "source": [
    "#Write code here"
   ]
  },
  {
   "cell_type": "markdown",
   "id": "ce784e45",
   "metadata": {},
   "source": [
    "## $A$ - Putting it all together\n",
    "\n",
    "Now we have made funtions for $R$, $K$, $LS$ and have parameters for $C$ and $P$ we can write a function to calculate $A$ t/ha/year of soil loss"
   ]
  },
  {
   "cell_type": "code",
   "execution_count": null,
   "id": "5a0a3dce",
   "metadata": {},
   "outputs": [],
   "source": [
    "def calc_Amonthly(start_date,end_date,lat,long,pH,Sa,Cl,Si,OM,s,l,C,P):\n",
    "    monthly_mean_Rs=calc_R(start_date,end_date,lat,long)\n",
    "    R=np.array(monthly_mean_Rs)\n",
    "    K=calc_K(pH,Sa,Cl,Si,OM)\n",
    "    LS=calc_LS(s,l) ###MAKE SURE YOU FINISH THE EXERCISE TO COMPLETE THIS FUNCTION\n",
    "    return R*K*LS*C*P #t/ha/year/\n",
    "\n",
    "def calc_A(start_date,end_date,lat,long,pH,Sa,Cl,Si,OM,s,l,C,P):\n",
    "    monthly_mean_Rs=calc_R(start_date,end_date,lat,long)\n",
    "    R=np.nansum(monthly_mean_Rs)\n",
    "    K=calc_K(pH,Sa,Cl,Si,OM)\n",
    "    LS=calc_LS(s,l) ###MAKE SURE YOU FINISH THE EXERCISE TO COMPLETE THIS FUNCTION\n",
    "    return R*K*LS*C*P #t/ha/year/"
   ]
  },
  {
   "cell_type": "code",
   "execution_count": null,
   "id": "33074ed9",
   "metadata": {},
   "outputs": [],
   "source": [
    "#Test the function\n",
    "#R params\n",
    "start_date='2010-01-01'\n",
    "end_date='2022-12-31'\n",
    "lat=37.2\n",
    "long=-7.516667\n",
    "#Soil K params - to measure in field\n",
    "pH=5.5\n",
    "OM=2.4\n",
    "Sa=75\n",
    "Si=6\n",
    "Cl=19\n",
    "#Slope LS params - to measure in field\n",
    "l=22\n",
    "s=9\n",
    "##C and P factors\n",
    "C=0.005 #Forest, is this valid for eucalyptus?!\n",
    "P=1 #No conservation starts\n",
    "A=calc_A(start_date,end_date,lat,long,pH,Sa,Cl,Si,OM,s,l,C,P) ##Call the function"
   ]
  },
  {
   "cell_type": "code",
   "execution_count": null,
   "id": "6924a6d2",
   "metadata": {},
   "outputs": [],
   "source": [
    "print('Soil loss for this scenario is {} t/ha/year'.format(A))"
   ]
  },
  {
   "cell_type": "markdown",
   "id": "14007bec",
   "metadata": {},
   "source": [
    "**Research question 1: Has climate change affected soil erosion from 1940 to present?**\n",
    "\n",
    "We will answer this by evaluating our erosion function for our reference soil for 1940-1959,1960-1979,....etc (open-meteo only goes back in 1940). We will not consider landuse change.\n"
   ]
  },
  {
   "cell_type": "code",
   "execution_count": null,
   "id": "c65ffb28",
   "metadata": {},
   "outputs": [],
   "source": [
    "import datetime #module to handle dates\n",
    "import matplotlib.pyplot as plt #moudle to to make plots\n",
    "\n",
    "starts=[datetime.date(1940+n,1,1) for n in range(0,80,20)] #a list of start dates\n",
    "ends=[datetime.date(1959+n,12,31) for n in range(0,80,20)] #a list of end dates\n",
    "\n",
    "erosions=[]\n",
    "for i in range(len(starts)): #loop through the dates\n",
    "    A=calc_A(starts[i].strftime(\"%Y-%m-%d\"),ends[i].strftime(\"%Y-%m-%d\"),lat,long,pH,Sa,Cl,Si,OM,s,l,C,P) ##Call the function\n",
    "    erosions.append(A*1000) #save the result as kg/ha/year. This doesnt consider landuse change!"
   ]
  },
  {
   "cell_type": "code",
   "execution_count": null,
   "id": "ba30ed60",
   "metadata": {},
   "outputs": [],
   "source": [
    "##Now we can plot\n",
    "plt.plot(erosions)\n",
    "plt.xticks(ticks=[0,1,2,3],labels=['1940-1960','1960-1980','1980-2000','2000-2020'])\n",
    "plt.ylabel('kgSoil/ha/year')"
   ]
  },
  {
   "cell_type": "code",
   "execution_count": null,
   "id": "0cb4ac7c",
   "metadata": {},
   "outputs": [],
   "source": [
    "## With this code we look at each months erosion\n",
    "\n",
    "starts=[datetime.date(1940+n,1,1) for n in range(0,80,20)] #a list of start dates\n",
    "ends=[datetime.date(1959+n,12,31) for n in range(0,80,20)] #a list of end dates\n",
    "\n",
    "erosions=[]\n",
    "for i in range(len(starts)): #loop through the dates\n",
    "    A=calc_Amonthly(starts[i].strftime(\"%Y-%m-%d\"),ends[i].strftime(\"%Y-%m-%d\"),lat,long,pH,Sa,Cl,Si,OM,s,l,C,P) ##Call the function\n",
    "    erosions.append(A*1000) #save the result as kg/ha/year. This doesnt consider landuse change!\n",
    "\n",
    "counter=0\n",
    "for e in erosions:   \n",
    "    plt.plot(e,label=starts[counter].strftime(\"%Y-%m-%d\"))\n",
    "    counter+=1\n",
    "plt.legend()\n",
    "\n"
   ]
  },
  {
   "cell_type": "markdown",
   "id": "07bb00c1",
   "metadata": {},
   "source": [
    "## Possible Tasks for trip\n",
    "\n",
    "- Measure Soil and Slope params for a variety of sites during the trip. Look for contasting management and cover.\n",
    "\n",
    "- Contour maps could give slope params for many sites -> GIS project?\n",
    "\n",
    "- Make a monthly version of calc_A() which returns each months soil loss.\n",
    "\n",
    "- Which months have the highest soil loss?\n",
    "\n",
    "- How has climate change affected soil loss in each month? Open-meteo has a climate change model to look at possible future climates https://open-meteo.com/en/docs/climate-api. Write another version of get_weather() to use this api and look at future climates\n",
    "\n",
    "- How does felling or forrest fires affect soil loss? \n",
    "    Burning: https://www.jswconline.org/content/59/1/36.short, Felling:Table 6 in https://doi.org/10.1016/j.catena.2006.01.006 might be an idea on how feling affects C over time. \n",
    "\n",
    "\n"
   ]
  },
  {
   "cell_type": "markdown",
   "id": "9e74b05c",
   "metadata": {},
   "source": [
    "## This section loads up a datae base of historical soil measurements in Portugal  "
   ]
  },
  {
   "cell_type": "code",
   "execution_count": null,
   "id": "7dcb6c01",
   "metadata": {},
   "outputs": [],
   "source": [
    "%pip install geopandas\n",
    "%pip install contextily"
   ]
  },
  {
   "cell_type": "code",
   "execution_count": null,
   "id": "04c009b7",
   "metadata": {},
   "outputs": [],
   "source": [
    "###Some packages to open up the soil database: https://projects.iniav.pt/infosolo/\n",
    "import geopandas as gpd\n",
    "import pandas as pd\n",
    "import contextily as cx"
   ]
  },
  {
   "cell_type": "code",
   "execution_count": null,
   "id": "0de84b29",
   "metadata": {},
   "outputs": [],
   "source": [
    "#Load up data as a csv and convert it to a geo-data set\n",
    "df=pd.read_csv('../data/external/pt_infosolo.csv')\n",
    "df[\"geometry\"] = gpd.points_from_xy(df.longitude, df.latitude, crs=\"EPSG:4326\")\n",
    "gdf=gpd.GeoDataFrame(df,geometry='geometry')\n",
    "gdf['om']=gdf['oc']*1.75 #Approximate organic matter % as 1.75 organic carbon%\n",
    "\n",
    "\n",
    "##Where was the new sample taken? We use this to look for the closest \n",
    "lat=37.323304 \n",
    "long=-8.834470\n",
    "#\n",
    "point_df=pd.DataFrame({'geometry':gpd.points_from_xy(x=[long], y=[lat],crs=\"EPSG:4326\")})\n",
    "point_gdf=gpd.GeoDataFrame(point_df,geometry='geometry')\n",
    "\n",
    "\n"
   ]
  },
  {
   "cell_type": "code",
   "execution_count": null,
   "id": "0c0540d6",
   "metadata": {},
   "outputs": [],
   "source": [
    "point_data=point_gdf.sjoin_nearest(gdf,how='inner')"
   ]
  },
  {
   "cell_type": "code",
   "execution_count": null,
   "id": "fff4f33d",
   "metadata": {},
   "outputs": [],
   "source": [
    "point_data.iloc[0]"
   ]
  },
  {
   "cell_type": "code",
   "execution_count": null,
   "id": "0f947eaf",
   "metadata": {},
   "outputs": [],
   "source": [
    "#make it so plots open a new window\n",
    "%matplotlib qt \n",
    "ax=gdf.plot()\n",
    "point_gdf.plot(ax=ax,color='r')\n",
    "cx.add_basemap(ax, crs=gdf.crs,source=cx.providers.CartoDB.Voyager)"
   ]
  },
  {
   "cell_type": "code",
   "execution_count": null,
   "id": "9751ed1f",
   "metadata": {},
   "outputs": [],
   "source": [
    "###Look at where the Eucalyptos plantations measurements are and their organic \n",
    "gdf_euc=gdf[gdf['land_use']=='Eucalypt forest'] #only eucalypt forresy\n",
    "gdf_euc_top=gdf_euc[gdf_euc['hor_top']==0] #only the samples where it is the top of the soil\n",
    "ax=gdf_euc_top.plot(column='om',legend=True)\n",
    "cx.add_basemap(ax, crs=gdf.crs,source=cx.providers.CartoDB.Voyager)\n"
   ]
  },
  {
   "cell_type": "markdown",
   "id": "9f90a0d8",
   "metadata": {},
   "source": [
    "## Code to look at the digital evelation map "
   ]
  },
  {
   "cell_type": "code",
   "execution_count": null,
   "id": "19b3b926",
   "metadata": {},
   "outputs": [],
   "source": [
    "##For DEM maps\n",
    "import rasterio\n",
    "from rasterio.windows import Window\n",
    "DEM_path='../data/dem_srtm_pt_25m.geotiff.tif'\n",
    "\n"
   ]
  },
  {
   "cell_type": "code",
   "execution_count": null,
   "id": "b44f234d",
   "metadata": {},
   "outputs": [],
   "source": [
    "def get_elevation(DEM_path,lat1,long1):\n",
    "    #We need to convert to a the portugese crs\n",
    "    df=pd.DataFrame({'lat':[lat1],'long':[long1]})\n",
    "    gdf=gpd.GeoDataFrame(df, geometry=gpd.points_from_xy(df.long, df.lat), crs='EPSG:4326')\n",
    "    gdf_port=gdf.to_crs('EPSG:3763')\n",
    "    lat_port=gdf_port.geometry.to_list()[0].x\n",
    "    long_port=gdf_port.geometry.to_list()[0].y\n",
    "    with rasterio.open(DEM_path) as DEM_file:\n",
    "        meta=DEM_file.meta\n",
    "        rowcol = rasterio.transform.rowcol(meta['transform'], xs=lat_port, ys=long_port)\n",
    "\n",
    "        y = rowcol[0]\n",
    "        x = rowcol[1]\n",
    "        print((x,y))\n",
    "\n",
    "        # Load specific pixel only using a window\n",
    "        width=50\n",
    "        height=50\n",
    "        window = Window(x-width/2,y-height/2,width,height)\n",
    "        arr = DEM_file.read(window=window)\n",
    "    return arr[0],window"
   ]
  },
  {
   "cell_type": "code",
   "execution_count": null,
   "id": "8c81deb8",
   "metadata": {},
   "outputs": [],
   "source": [
    "#37.289803, -8.858953\n",
    "#37.327615, -8.725525\n",
    "#39.102983, -8.758106\n",
    "height_arr,window=get_elevation(DEM_path,lat, long)\n"
   ]
  },
  {
   "cell_type": "code",
   "execution_count": null,
   "id": "26746ba1",
   "metadata": {},
   "outputs": [],
   "source": [
    "import matplotlib.pyplot as plt\n",
    "plt.figure()\n",
    "plt.contour(np.flipud(height_arr),levels=20)\n",
    "plt.figure()\n",
    "plt.imshow(height_arr)"
   ]
  },
  {
   "cell_type": "code",
   "execution_count": null,
   "id": "166920a4",
   "metadata": {
    "scrolled": true
   },
   "outputs": [],
   "source": [
    "height_arr[25,25] #elevation at your location"
   ]
  },
  {
   "cell_type": "code",
   "execution_count": null,
   "id": "fe535cd1",
   "metadata": {},
   "outputs": [],
   "source": [
    "gradient=(height_arr[25,25]-height_arr[25,26])/25"
   ]
  },
  {
   "cell_type": "code",
   "execution_count": null,
   "id": "7bd7c3d7",
   "metadata": {},
   "outputs": [],
   "source": [
    "max_height=np.max(height_arr)\n",
    "loc_max=np.where(height_arr==max_height)\n",
    "min_height=np.min(height_arr)\n",
    "loc_min=np.where(height_arr==min_height)"
   ]
  },
  {
   "cell_type": "code",
   "execution_count": null,
   "id": "4d2e3a59",
   "metadata": {},
   "outputs": [],
   "source": [
    "print(max_height)\n",
    "print(loc_max)"
   ]
  },
  {
   "cell_type": "code",
   "execution_count": null,
   "id": "7e998ed6",
   "metadata": {},
   "outputs": [],
   "source": [
    "print(min_height)\n",
    "print(loc_min)"
   ]
  },
  {
   "cell_type": "code",
   "execution_count": null,
   "id": "a0524898",
   "metadata": {},
   "outputs": [],
   "source": [
    "height_arr[8,37]"
   ]
  },
  {
   "cell_type": "code",
   "execution_count": null,
   "id": "dd09d320",
   "metadata": {},
   "outputs": [],
   "source": []
  }
 ],
 "metadata": {
  "kernelspec": {
   "display_name": "Python 3 (ipykernel)",
   "language": "python",
   "name": "python3"
  },
  "language_info": {
   "codemirror_mode": {
    "name": "ipython",
    "version": 3
   },
   "file_extension": ".py",
   "mimetype": "text/x-python",
   "name": "python",
   "nbconvert_exporter": "python",
   "pygments_lexer": "ipython3",
   "version": "3.12.4"
  }
 },
 "nbformat": 4,
 "nbformat_minor": 5
}
